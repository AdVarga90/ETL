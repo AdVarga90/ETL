{
 "cells": [
  {
   "cell_type": "markdown",
   "metadata": {
    "ExecuteTime": {
     "end_time": "2022-12-16T15:04:17.662078Z",
     "start_time": "2022-12-16T15:04:17.659666Z"
    }
   },
   "source": [
    "# Library import and data set preparation"
   ]
  },
  {
   "cell_type": "code",
   "execution_count": 1,
   "metadata": {
    "ExecuteTime": {
     "end_time": "2022-12-17T02:28:41.211391Z",
     "start_time": "2022-12-17T02:28:40.913141Z"
    }
   },
   "outputs": [],
   "source": [
    "import pandas as pd"
   ]
  },
  {
   "cell_type": "code",
   "execution_count": 2,
   "metadata": {
    "ExecuteTime": {
     "end_time": "2022-12-17T02:28:41.882394Z",
     "start_time": "2022-12-17T02:28:41.214369Z"
    }
   },
   "outputs": [],
   "source": [
    "import numpy as np\n",
    "import statsmodels.api as sm\n",
    "\n",
    "import matplotlib.pyplot as plt"
   ]
  },
  {
   "cell_type": "code",
   "execution_count": 3,
   "metadata": {
    "ExecuteTime": {
     "end_time": "2022-12-17T02:28:41.887291Z",
     "start_time": "2022-12-17T02:28:41.884669Z"
    }
   },
   "outputs": [],
   "source": [
    "from datetime import timedelta, date\n",
    "from dateutil.relativedelta import relativedelta"
   ]
  },
  {
   "cell_type": "code",
   "execution_count": 4,
   "metadata": {
    "ExecuteTime": {
     "end_time": "2022-12-17T02:28:41.891497Z",
     "start_time": "2022-12-17T02:28:41.889336Z"
    }
   },
   "outputs": [],
   "source": [
    "from scipy import stats"
   ]
  },
  {
   "cell_type": "code",
   "execution_count": 5,
   "metadata": {
    "ExecuteTime": {
     "end_time": "2022-12-17T02:28:41.895513Z",
     "start_time": "2022-12-17T02:28:41.893412Z"
    }
   },
   "outputs": [],
   "source": [
    "# data set load and transformation"
   ]
  },
  {
   "cell_type": "code",
   "execution_count": 6,
   "metadata": {
    "ExecuteTime": {
     "end_time": "2022-12-17T02:28:41.906826Z",
     "start_time": "2022-12-17T02:28:41.897521Z"
    }
   },
   "outputs": [],
   "source": [
    "df = pd.read_csv(\"bia_daily_wc_2021.csv\")"
   ]
  },
  {
   "cell_type": "code",
   "execution_count": 7,
   "metadata": {
    "ExecuteTime": {
     "end_time": "2022-12-17T02:28:41.915976Z",
     "start_time": "2022-12-17T02:28:41.909252Z"
    }
   },
   "outputs": [],
   "source": [
    "df[\"d_date\"] = pd.to_datetime(df[\"d_date\"])"
   ]
  },
  {
   "cell_type": "code",
   "execution_count": 8,
   "metadata": {
    "ExecuteTime": {
     "end_time": "2022-12-17T02:28:41.923026Z",
     "start_time": "2022-12-17T02:28:41.918562Z"
    }
   },
   "outputs": [],
   "source": [
    "df.set_index(\"d_date\", inplace=True)"
   ]
  },
  {
   "cell_type": "code",
   "execution_count": 9,
   "metadata": {
    "ExecuteTime": {
     "end_time": "2022-12-17T02:28:41.943199Z",
     "start_time": "2022-12-17T02:28:41.925778Z"
    }
   },
   "outputs": [
    {
     "data": {
      "text/html": [
       "<div>\n",
       "<style scoped>\n",
       "    .dataframe tbody tr th:only-of-type {\n",
       "        vertical-align: middle;\n",
       "    }\n",
       "\n",
       "    .dataframe tbody tr th {\n",
       "        vertical-align: top;\n",
       "    }\n",
       "\n",
       "    .dataframe thead th {\n",
       "        text-align: right;\n",
       "    }\n",
       "</style>\n",
       "<table border=\"1\" class=\"dataframe\">\n",
       "  <thead>\n",
       "    <tr style=\"text-align: right;\">\n",
       "      <th></th>\n",
       "      <th>revenue</th>\n",
       "    </tr>\n",
       "    <tr>\n",
       "      <th>d_date</th>\n",
       "      <th></th>\n",
       "    </tr>\n",
       "  </thead>\n",
       "  <tbody>\n",
       "    <tr>\n",
       "      <th>2021-01-01</th>\n",
       "      <td>28955.64045</td>\n",
       "    </tr>\n",
       "    <tr>\n",
       "      <th>2021-01-02</th>\n",
       "      <td>44780.01737</td>\n",
       "    </tr>\n",
       "    <tr>\n",
       "      <th>2021-01-03</th>\n",
       "      <td>46144.57494</td>\n",
       "    </tr>\n",
       "    <tr>\n",
       "      <th>2021-01-04</th>\n",
       "      <td>45024.70622</td>\n",
       "    </tr>\n",
       "    <tr>\n",
       "      <th>2021-01-05</th>\n",
       "      <td>40427.56300</td>\n",
       "    </tr>\n",
       "    <tr>\n",
       "      <th>...</th>\n",
       "      <td>...</td>\n",
       "    </tr>\n",
       "    <tr>\n",
       "      <th>2021-12-27</th>\n",
       "      <td>47611.10400</td>\n",
       "    </tr>\n",
       "    <tr>\n",
       "      <th>2021-12-28</th>\n",
       "      <td>45468.07700</td>\n",
       "    </tr>\n",
       "    <tr>\n",
       "      <th>2021-12-29</th>\n",
       "      <td>38038.67900</td>\n",
       "    </tr>\n",
       "    <tr>\n",
       "      <th>2021-12-30</th>\n",
       "      <td>38708.64400</td>\n",
       "    </tr>\n",
       "    <tr>\n",
       "      <th>2021-12-31</th>\n",
       "      <td>31792.32000</td>\n",
       "    </tr>\n",
       "  </tbody>\n",
       "</table>\n",
       "<p>365 rows × 1 columns</p>\n",
       "</div>"
      ],
      "text/plain": [
       "                revenue\n",
       "d_date                 \n",
       "2021-01-01  28955.64045\n",
       "2021-01-02  44780.01737\n",
       "2021-01-03  46144.57494\n",
       "2021-01-04  45024.70622\n",
       "2021-01-05  40427.56300\n",
       "...                 ...\n",
       "2021-12-27  47611.10400\n",
       "2021-12-28  45468.07700\n",
       "2021-12-29  38038.67900\n",
       "2021-12-30  38708.64400\n",
       "2021-12-31  31792.32000\n",
       "\n",
       "[365 rows x 1 columns]"
      ]
     },
     "execution_count": 9,
     "metadata": {},
     "output_type": "execute_result"
    }
   ],
   "source": [
    "df"
   ]
  },
  {
   "cell_type": "markdown",
   "metadata": {},
   "source": [
    "# Seasonal decomposition"
   ]
  },
  {
   "cell_type": "code",
   "execution_count": 10,
   "metadata": {
    "ExecuteTime": {
     "end_time": "2022-12-17T02:28:41.955627Z",
     "start_time": "2022-12-17T02:28:41.945688Z"
    }
   },
   "outputs": [],
   "source": [
    "decomposition = sm.tsa.seasonal_decompose(df['revenue'],model='additive',extrapolate_trend ='freq')"
   ]
  },
  {
   "cell_type": "code",
   "execution_count": 11,
   "metadata": {
    "ExecuteTime": {
     "end_time": "2022-12-17T02:28:43.467501Z",
     "start_time": "2022-12-17T02:28:41.957718Z"
    }
   },
   "outputs": [
    {
     "data": {
      "image/png": "[encoded data removed]",
      "text/plain": [
       "<Figure size 1008x504 with 4 Axes>"
      ]
     },
     "metadata": {
      "needs_background": "light"
     },
     "output_type": "display_data"
    }
   ],
   "source": [
    "fig = decomposition.plot()\n",
    "fig.set_size_inches(14,7)\n",
    "plt.show()"
   ]
  },
  {
   "cell_type": "code",
   "execution_count": 12,
   "metadata": {
    "ExecuteTime": {
     "end_time": "2022-12-17T02:28:43.473143Z",
     "start_time": "2022-12-17T02:28:43.469624Z"
    }
   },
   "outputs": [
    {
     "data": {
      "text/plain": [
       "365"
      ]
     },
     "execution_count": 12,
     "metadata": {},
     "output_type": "execute_result"
    }
   ],
   "source": [
    "decomposition.nobs"
   ]
  },
  {
   "cell_type": "code",
   "execution_count": 13,
   "metadata": {
    "ExecuteTime": {
     "end_time": "2022-12-17T02:28:43.480539Z",
     "start_time": "2022-12-17T02:28:43.475085Z"
    }
   },
   "outputs": [
    {
     "data": {
      "text/plain": [
       "d_date\n",
       "2021-01-01    4597.975590\n",
       "2021-01-02    3061.639722\n",
       "2021-01-03    2218.334332\n",
       "2021-01-04    1287.221026\n",
       "2021-01-05   -1645.007758\n",
       "                 ...     \n",
       "2021-12-27    1287.221026\n",
       "2021-12-28   -1645.007758\n",
       "2021-12-29   -7621.341219\n",
       "2021-12-30   -1898.821691\n",
       "2021-12-31    4597.975590\n",
       "Name: revenue, Length: 365, dtype: float64"
      ]
     },
     "execution_count": 13,
     "metadata": {},
     "output_type": "execute_result"
    }
   ],
   "source": [
    "decomposition.seasonal"
   ]
  },
  {
   "cell_type": "code",
   "execution_count": 14,
   "metadata": {
    "ExecuteTime": {
     "end_time": "2022-12-17T02:28:43.487797Z",
     "start_time": "2022-12-17T02:28:43.482475Z"
    }
   },
   "outputs": [
    {
     "data": {
      "text/plain": [
       "d_date\n",
       "2021-01-01    41434.641668\n",
       "2021-01-02    41373.444927\n",
       "2021-01-03    41312.248186\n",
       "2021-01-04    39914.552684\n",
       "2021-01-05    42061.821087\n",
       "                  ...     \n",
       "2021-12-27    38353.925286\n",
       "2021-12-28    38859.376429\n",
       "2021-12-29    37216.552393\n",
       "2021-12-30    37193.880908\n",
       "2021-12-31    37171.209423\n",
       "Name: revenue, Length: 365, dtype: float64"
      ]
     },
     "execution_count": 14,
     "metadata": {},
     "output_type": "execute_result"
    }
   ],
   "source": [
    "decomposition.trend"
   ]
  },
  {
   "cell_type": "code",
   "execution_count": 15,
   "metadata": {
    "ExecuteTime": {
     "end_time": "2022-12-17T02:28:43.495113Z",
     "start_time": "2022-12-17T02:28:43.489619Z"
    }
   },
   "outputs": [
    {
     "data": {
      "text/plain": [
       "d_date\n",
       "2021-01-01   -17076.976808\n",
       "2021-01-02      344.932721\n",
       "2021-01-03     2613.992423\n",
       "2021-01-04     3822.932510\n",
       "2021-01-05       10.749671\n",
       "                  ...     \n",
       "2021-12-27     7969.957689\n",
       "2021-12-28     8253.708330\n",
       "2021-12-29     8443.467826\n",
       "2021-12-30     3413.584783\n",
       "2021-12-31    -9976.865013\n",
       "Name: revenue, Length: 365, dtype: float64"
      ]
     },
     "execution_count": 15,
     "metadata": {},
     "output_type": "execute_result"
    }
   ],
   "source": [
    "decomposition.resid"
   ]
  },
  {
   "cell_type": "code",
   "execution_count": 16,
   "metadata": {
    "ExecuteTime": {
     "end_time": "2022-12-17T02:28:43.703164Z",
     "start_time": "2022-12-17T02:28:43.496944Z"
    }
   },
   "outputs": [
    {
     "data": {
      "text/plain": [
       "[<matplotlib.lines.Line2D at 0x7f78e07aa7b8>]"
      ]
     },
     "execution_count": 16,
     "metadata": {},
     "output_type": "execute_result"
    },
    {
     "data": {
      "image/png": "[encoded data removed]",
      "text/plain": [
       "<Figure size 1008x504 with 1 Axes>"
      ]
     },
     "metadata": {
      "needs_background": "light"
     },
     "output_type": "display_data"
    }
   ],
   "source": [
    "fign = plt.figure() \n",
    "fign.set_size_inches(14, 7)\n",
    "plt.plot(decomposition.trend)"
   ]
  },
  {
   "cell_type": "markdown",
   "metadata": {},
   "source": [
    "# Trend calculation"
   ]
  },
  {
   "cell_type": "markdown",
   "metadata": {},
   "source": [
    "## linear regression"
   ]
  },
  {
   "cell_type": "code",
   "execution_count": 17,
   "metadata": {
    "ExecuteTime": {
     "end_time": "2022-12-17T02:28:43.711340Z",
     "start_time": "2022-12-17T02:28:43.705111Z"
    }
   },
   "outputs": [],
   "source": [
    "res = stats.linregress(list(map(lambda x: int(x.strftime('%Y%m%d')), decomposition.trend.index.tolist())), decomposition.trend.values)"
   ]
  },
  {
   "cell_type": "code",
   "execution_count": 18,
   "metadata": {
    "ExecuteTime": {
     "end_time": "2022-12-17T02:28:43.716884Z",
     "start_time": "2022-12-17T02:28:43.713434Z"
    }
   },
   "outputs": [
    {
     "data": {
      "text/plain": [
       "LinregressResult(slope=9.588336889937949, intercept=-193744984.373404, rvalue=0.5354723646368477, pvalue=1.801193755144346e-28, stderr=0.7937426015181824)"
      ]
     },
     "execution_count": 18,
     "metadata": {},
     "output_type": "execute_result"
    }
   ],
   "source": [
    "res"
   ]
  },
  {
   "cell_type": "code",
   "execution_count": 19,
   "metadata": {
    "ExecuteTime": {
     "end_time": "2022-12-17T02:28:43.727447Z",
     "start_time": "2022-12-17T02:28:43.718794Z"
    }
   },
   "outputs": [],
   "source": [
    "x = list(map(lambda x: int(x.strftime('%Y%m%d')), decomposition.trend.index.tolist()))\n",
    "x_trend = list(map(lambda x: int(x.strftime('%Y%m%d'))* res.slope + res.intercept, decomposition.trend.index.tolist())) #  * res.slope + res.intercept"
   ]
  },
  {
   "cell_type": "code",
   "execution_count": 20,
   "metadata": {
    "ExecuteTime": {
     "end_time": "2022-12-17T02:28:43.736580Z",
     "start_time": "2022-12-17T02:28:43.729550Z"
    }
   },
   "outputs": [
    {
     "data": {
      "text/plain": [
       "[36272.594267845154,\n",
       " 36282.18260473013,\n",
       " 36291.770941615105,\n",
       " 36301.35927850008,\n",
       " 36310.947615385056,\n",
       " 36320.53595229983,\n",
       " 36330.12428918481,\n",
       " 36339.712626069784,\n",
       " 36349.30096295476,\n",
       " 36358.889299839735,\n",
       " 36368.47763672471,\n",
       " 36378.06597363949,\n",
       " 36387.654310524464,\n",
       " 36397.24264740944,\n",
       " 36406.830984294415,\n",
       " 36416.41932117939,\n",
       " 36426.007658064365,\n",
       " 36435.59599497914,\n",
       " 36445.18433186412,\n",
       " 36454.772668749094,\n",
       " 36464.36100563407,\n",
       " 36473.949342519045,\n",
       " 36483.53767940402,\n",
       " 36493.1260163188,\n",
       " 36502.71435320377,\n",
       " 36512.30269008875,\n",
       " 36521.891026973724,\n",
       " 36531.4793638587,\n",
       " 36541.067700743675,\n",
       " 36550.65603765845,\n",
       " 36560.24437454343,\n",
       " 37231.427956819534,\n",
       " 37241.01629373431,\n",
       " 37250.60463061929,\n",
       " 37260.19296750426,\n",
       " 37269.78130438924,\n",
       " 37279.369641274214,\n",
       " 37288.95797815919,\n",
       " 37298.54631507397,\n",
       " 37308.13465195894,\n",
       " 37317.72298884392,\n",
       " 37327.31132572889,\n",
       " 37336.89966261387,\n",
       " 37346.487999498844,\n",
       " 37356.07633641362,\n",
       " 37365.6646732986,\n",
       " 37375.25301018357,\n",
       " 37384.84134706855,\n",
       " 37394.42968395352,\n",
       " 37404.0180208385,\n",
       " 37413.60635775328,\n",
       " 37423.19469463825,\n",
       " 37432.78303152323,\n",
       " 37442.3713684082,\n",
       " 37451.95970529318,\n",
       " 37461.548042178154,\n",
       " 37471.13637909293,\n",
       " 37480.72471597791,\n",
       " 37490.31305286288,\n",
       " 38190.26164582372,\n",
       " 38199.84998270869,\n",
       " 38209.43831959367,\n",
       " 38219.026656508446,\n",
       " 38228.61499339342,\n",
       " 38238.2033302784,\n",
       " 38247.79166716337,\n",
       " 38257.38000404835,\n",
       " 38266.96834093332,\n",
       " 38276.5566778481,\n",
       " 38286.145014733076,\n",
       " 38295.73335161805,\n",
       " 38305.32168850303,\n",
       " 38314.910025388,\n",
       " 38324.49836227298,\n",
       " 38334.086699187756,\n",
       " 38343.67503607273,\n",
       " 38353.26337295771,\n",
       " 38362.85170984268,\n",
       " 38372.44004672766,\n",
       " 38382.02838361263,\n",
       " 38391.61672052741,\n",
       " 38401.205057412386,\n",
       " 38410.79339429736,\n",
       " 38420.38173118234,\n",
       " 38429.97006806731,\n",
       " 38439.55840495229,\n",
       " 38449.146741867065,\n",
       " 38458.73507875204,\n",
       " 38468.323415637016,\n",
       " 38477.91175252199,\n",
       " 39149.0953348279,\n",
       " 39158.683671712875,\n",
       " 39168.27200859785,\n",
       " 39177.860345482826,\n",
       " 39187.4486823678,\n",
       " 39197.03701928258,\n",
       " 39206.625356167555,\n",
       " 39216.21369305253,\n",
       " 39225.802029937506,\n",
       " 39235.39036682248,\n",
       " 39244.97870370746,\n",
       " 39254.567040622234,\n",
       " 39264.15537750721,\n",
       " 39273.743714392185,\n",
       " 39283.33205127716,\n",
       " 39292.920388162136,\n",
       " 39302.50872504711,\n",
       " 39312.09706196189,\n",
       " 39321.685398846865,\n",
       " 39331.27373573184,\n",
       " 39340.862072616816,\n",
       " 39350.45040950179,\n",
       " 39360.03874638677,\n",
       " 39369.627083301544,\n",
       " 39379.21542018652,\n",
       " 39388.803757071495,\n",
       " 39398.39209395647,\n",
       " 39407.980430841446,\n",
       " 39417.56876772642,\n",
       " 39427.1571046412,\n",
       " 40107.92902380228,\n",
       " 40117.51736071706,\n",
       " 40127.10569760203,\n",
       " 40136.69403448701,\n",
       " 40146.282371371984,\n",
       " 40155.87070825696,\n",
       " 40165.459045141935,\n",
       " 40175.04738205671,\n",
       " 40184.63571894169,\n",
       " 40194.224055826664,\n",
       " 40203.81239271164,\n",
       " 40213.400729596615,\n",
       " 40222.98906648159,\n",
       " 40232.57740339637,\n",
       " 40242.16574028134,\n",
       " 40251.75407716632,\n",
       " 40261.342414051294,\n",
       " 40270.93075093627,\n",
       " 40280.519087821245,\n",
       " 40290.10742473602,\n",
       " 40299.695761621,\n",
       " 40309.284098505974,\n",
       " 40318.87243539095,\n",
       " 40328.460772275925,\n",
       " 40338.0491091609,\n",
       " 40347.63744607568,\n",
       " 40357.22578296065,\n",
       " 40366.81411984563,\n",
       " 40376.402456730604,\n",
       " 40385.99079361558,\n",
       " 40395.579130500555,\n",
       " 41066.76271280646,\n",
       " 41076.35104969144,\n",
       " 41085.939386576414,\n",
       " 41095.52772349119,\n",
       " 41105.11606037617,\n",
       " 41114.70439726114,\n",
       " 41124.29273414612,\n",
       " 41133.88107103109,\n",
       " 41143.46940791607,\n",
       " 41153.05774483085,\n",
       " 41162.64608171582,\n",
       " 41172.2344186008,\n",
       " 41181.82275548577,\n",
       " 41191.41109237075,\n",
       " 41200.999429255724,\n",
       " 41210.5877661705,\n",
       " 41220.17610305548,\n",
       " 41229.76443994045,\n",
       " 41239.35277682543,\n",
       " 41248.9411137104,\n",
       " 41258.52945059538,\n",
       " 41268.11778751016,\n",
       " 41277.70612439513,\n",
       " 41287.29446128011,\n",
       " 41296.88279816508,\n",
       " 41306.47113505006,\n",
       " 41316.059471935034,\n",
       " 41325.64780884981,\n",
       " 41335.23614573479,\n",
       " 41344.82448261976,\n",
       " 42025.596401810646,\n",
       " 42035.18473869562,\n",
       " 42044.7730755806,\n",
       " 42054.36141246557,\n",
       " 42063.94974935055,\n",
       " 42073.538086265326,\n",
       " 42083.1264231503,\n",
       " 42092.71476003528,\n",
       " 42102.30309692025,\n",
       " 42111.89143380523,\n",
       " 42121.4797706902,\n",
       " 42131.06810760498,\n",
       " 42140.656444489956,\n",
       " 42150.24478137493,\n",
       " 42159.83311825991,\n",
       " 42169.42145514488,\n",
       " 42179.00979202986,\n",
       " 42188.598128944635,\n",
       " 42198.18646582961,\n",
       " 42207.774802714586,\n",
       " 42217.36313959956,\n",
       " 42226.95147648454,\n",
       " 42236.53981336951,\n",
       " 42246.12815028429,\n",
       " 42255.716487169266,\n",
       " 42265.30482405424,\n",
       " 42274.89316093922,\n",
       " 42284.48149782419,\n",
       " 42294.06983470917,\n",
       " 42303.658171623945,\n",
       " 42313.24650850892,\n",
       " 42984.43009078503,\n",
       " 42994.018427699804,\n",
       " 43003.60676458478,\n",
       " 43013.195101469755,\n",
       " 43022.78343835473,\n",
       " 43032.371775239706,\n",
       " 43041.96011212468,\n",
       " 43051.54844903946,\n",
       " 43061.136785924435,\n",
       " 43070.72512280941,\n",
       " 43080.313459694386,\n",
       " 43089.90179657936,\n",
       " 43099.49013346434,\n",
       " 43109.07847034931,\n",
       " 43118.66680726409,\n",
       " 43128.255144149065,\n",
       " 43137.84348103404,\n",
       " 43147.431817919016,\n",
       " 43157.02015480399,\n",
       " 43166.60849168897,\n",
       " 43176.196828603745,\n",
       " 43185.78516548872,\n",
       " 43195.373502373695,\n",
       " 43204.96183925867,\n",
       " 43214.550176143646,\n",
       " 43224.13851302862,\n",
       " 43233.7268499434,\n",
       " 43243.315186828375,\n",
       " 43252.90352371335,\n",
       " 43262.491860598326,\n",
       " 43272.0801974833,\n",
       " 43943.26377978921,\n",
       " 43952.852116674185,\n",
       " 43962.44045355916,\n",
       " 43972.028790444136,\n",
       " 43981.61712735891,\n",
       " 43991.20546424389,\n",
       " 44000.793801128864,\n",
       " 44010.38213801384,\n",
       " 44019.970474898815,\n",
       " 44029.55881178379,\n",
       " 44039.14714869857,\n",
       " 44048.735485583544,\n",
       " 44058.32382246852,\n",
       " 44067.912159353495,\n",
       " 44077.50049623847,\n",
       " 44087.088833123446,\n",
       " 44096.67717003822,\n",
       " 44106.2655069232,\n",
       " 44115.853843808174,\n",
       " 44125.44218069315,\n",
       " 44135.030517578125,\n",
       " 44144.6188544631,\n",
       " 44154.20719137788,\n",
       " 44163.79552826285,\n",
       " 44173.38386514783,\n",
       " 44182.972202032804,\n",
       " 44192.56053891778,\n",
       " 44202.148875802755,\n",
       " 44211.73721271753,\n",
       " 44221.32554960251,\n",
       " 44902.09746879339,\n",
       " 44911.68580567837,\n",
       " 44921.27414256334,\n",
       " 44930.86247944832,\n",
       " 44940.450816333294,\n",
       " 44950.03915321827,\n",
       " 44959.62749013305,\n",
       " 44969.21582701802,\n",
       " 44978.804163903,\n",
       " 44988.39250078797,\n",
       " 44997.98083767295,\n",
       " 45007.569174557924,\n",
       " 45017.1575114727,\n",
       " 45026.74584835768,\n",
       " 45036.33418524265,\n",
       " 45045.92252212763,\n",
       " 45055.510859012604,\n",
       " 45065.09919589758,\n",
       " 45074.68753281236,\n",
       " 45084.27586969733,\n",
       " 45093.86420658231,\n",
       " 45103.45254346728,\n",
       " 45113.04088035226,\n",
       " 45122.629217237234,\n",
       " 45132.21755415201,\n",
       " 45141.80589103699,\n",
       " 45151.39422792196,\n",
       " 45160.98256480694,\n",
       " 45170.57090169191,\n",
       " 45180.15923857689,\n",
       " 45189.74757549167,\n",
       " 45860.93115776777,\n",
       " 45870.51949465275,\n",
       " 45880.107831567526,\n",
       " 45889.6961684525,\n",
       " 45899.28450533748,\n",
       " 45908.87284222245,\n",
       " 45918.46117910743,\n",
       " 45928.0495159924,\n",
       " 45937.63785290718,\n",
       " 45947.226189792156,\n",
       " 45956.81452667713,\n",
       " 45966.40286356211,\n",
       " 45975.99120044708,\n",
       " 45985.57953733206,\n",
       " 45995.167874246836,\n",
       " 46004.75621113181,\n",
       " 46014.34454801679,\n",
       " 46023.93288490176,\n",
       " 46033.52122178674,\n",
       " 46043.10955867171,\n",
       " 46052.69789558649,\n",
       " 46062.286232471466,\n",
       " 46071.87456935644,\n",
       " 46081.46290624142,\n",
       " 46091.05124312639,\n",
       " 46100.63958001137,\n",
       " 46110.227916926146,\n",
       " 46119.81625381112,\n",
       " 46129.4045906961,\n",
       " 46138.99292758107,\n",
       " 46819.764846771955,\n",
       " 46829.35318365693,\n",
       " 46838.941520541906,\n",
       " 46848.52985742688,\n",
       " 46858.11819434166,\n",
       " 46867.706531226635,\n",
       " 46877.29486811161,\n",
       " 46886.883204996586,\n",
       " 46896.47154188156,\n",
       " 46906.05987876654,\n",
       " 46915.648215681314,\n",
       " 46925.23655256629,\n",
       " 46934.824889451265,\n",
       " 46944.41322633624,\n",
       " 46954.001563221216,\n",
       " 46963.58990010619,\n",
       " 46973.17823702097,\n",
       " 46982.766573905945,\n",
       " 46992.35491079092,\n",
       " 47001.943247675896,\n",
       " 47011.53158456087,\n",
       " 47021.11992144585,\n",
       " 47030.708258360624,\n",
       " 47040.2965952456,\n",
       " 47049.884932130575,\n",
       " 47059.47326901555,\n",
       " 47069.061605900526,\n",
       " 47078.6499427855,\n",
       " 47088.23827970028,\n",
       " 47097.826616585255,\n",
       " 47107.41495347023]"
      ]
     },
     "execution_count": 20,
     "metadata": {},
     "output_type": "execute_result"
    }
   ],
   "source": [
    "x_trend"
   ]
  },
  {
   "cell_type": "markdown",
   "metadata": {},
   "source": [
    "## Plot"
   ]
  },
  {
   "cell_type": "code",
   "execution_count": 21,
   "metadata": {
    "ExecuteTime": {
     "end_time": "2022-12-17T02:28:44.014696Z",
     "start_time": "2022-12-17T02:28:43.738400Z"
    }
   },
   "outputs": [
    {
     "name": "stderr",
     "output_type": "stream",
     "text": [
      "/opt/anaconda2/envs/py36/lib/python3.6/site-packages/matplotlib/cbook/__init__.py:1402: FutureWarning: Support for multi-dimensional indexing (e.g. `obj[:, None]`) is deprecated and will be removed in a future version.  Convert to a numpy array before indexing instead.\n",
      "  x[:, None]\n",
      "/opt/anaconda2/envs/py36/lib/python3.6/site-packages/matplotlib/axes/_base.py:276: FutureWarning: Support for multi-dimensional indexing (e.g. `obj[:, None]`) is deprecated and will be removed in a future version.  Convert to a numpy array before indexing instead.\n",
      "  x = x[:, np.newaxis]\n"
     ]
    },
    {
     "data": {
      "image/png": "[encoded data removed]",
      "text/plain": [
       "<Figure size 1224x504 with 1 Axes>"
      ]
     },
     "metadata": {
      "needs_background": "light"
     },
     "output_type": "display_data"
    }
   ],
   "source": [
    "plt.figure(figsize=(17, 7))\n",
    "plt.plot(decomposition.trend.index, decomposition.trend.values, '.', label='original data')\n",
    "plt.plot(decomposition.trend.index, x_trend, 'r', label='fitted line')\n",
    "plt.legend()\n",
    "plt.show()"
   ]
  },
  {
   "cell_type": "markdown",
   "metadata": {},
   "source": [
    "# Forecast"
   ]
  },
  {
   "cell_type": "code",
   "execution_count": 22,
   "metadata": {
    "ExecuteTime": {
     "end_time": "2022-12-17T02:28:44.019044Z",
     "start_time": "2022-12-17T02:28:44.016586Z"
    }
   },
   "outputs": [],
   "source": [
    "incr_perc = 1+ (max(x_trend) - min(x_trend))/min(x_trend)"
   ]
  },
  {
   "cell_type": "code",
   "execution_count": 23,
   "metadata": {
    "ExecuteTime": {
     "end_time": "2022-12-17T02:28:44.024281Z",
     "start_time": "2022-12-17T02:28:44.020970Z"
    }
   },
   "outputs": [
    {
     "data": {
      "text/plain": [
       "1.298705424972316"
      ]
     },
     "execution_count": 23,
     "metadata": {},
     "output_type": "execute_result"
    }
   ],
   "source": [
    "incr_perc"
   ]
  },
  {
   "cell_type": "code",
   "execution_count": 24,
   "metadata": {
    "ExecuteTime": {
     "end_time": "2022-12-17T02:28:44.028412Z",
     "start_time": "2022-12-17T02:28:44.026086Z"
    }
   },
   "outputs": [],
   "source": [
    "nn_sim = decomposition.trend.values * incr_perc"
   ]
  },
  {
   "cell_type": "code",
   "execution_count": 25,
   "metadata": {
    "ExecuteTime": {
     "end_time": "2022-12-17T02:28:44.032752Z",
     "start_time": "2022-12-17T02:28:44.030289Z"
    }
   },
   "outputs": [],
   "source": [
    "series = pd.Series(nn_sim)"
   ]
  },
  {
   "cell_type": "code",
   "execution_count": 26,
   "metadata": {
    "ExecuteTime": {
     "end_time": "2022-12-17T02:28:44.044347Z",
     "start_time": "2022-12-17T02:28:44.034644Z"
    }
   },
   "outputs": [],
   "source": [
    "nnt = list(map(lambda x: x + relativedelta(years=1), decomposition.trend.index))"
   ]
  },
  {
   "cell_type": "code",
   "execution_count": 27,
   "metadata": {
    "ExecuteTime": {
     "end_time": "2022-12-17T02:28:44.049871Z",
     "start_time": "2022-12-17T02:28:44.046420Z"
    }
   },
   "outputs": [],
   "source": [
    "series.index = nnt"
   ]
  },
  {
   "cell_type": "code",
   "execution_count": 28,
   "metadata": {
    "ExecuteTime": {
     "end_time": "2022-12-17T02:28:44.057112Z",
     "start_time": "2022-12-17T02:28:44.051746Z"
    }
   },
   "outputs": [
    {
     "data": {
      "text/plain": [
       "2022-01-01    53811.393916\n",
       "2022-01-02    53731.917376\n",
       "2022-01-03    53652.440837\n",
       "2022-01-04    51837.246106\n",
       "2022-01-05    54625.915230\n",
       "                  ...     \n",
       "2022-12-27    49810.450838\n",
       "2022-12-28    50466.882979\n",
       "2022-12-29    48333.338491\n",
       "2022-12-30    48303.894911\n",
       "2022-12-31    48274.451331\n",
       "Length: 365, dtype: float64"
      ]
     },
     "execution_count": 28,
     "metadata": {},
     "output_type": "execute_result"
    }
   ],
   "source": [
    "series"
   ]
  },
  {
   "cell_type": "code",
   "execution_count": 29,
   "metadata": {
    "ExecuteTime": {
     "end_time": "2022-12-17T02:28:44.063530Z",
     "start_time": "2022-12-17T02:28:44.058954Z"
    }
   },
   "outputs": [],
   "source": [
    "# next year\n",
    "nn = list(map(lambda x: x+10000, x))\n",
    "nni = list(map(lambda x: int(x.strftime('%Y%m%d'))* res.slope + -193830032.97, series.index)) #  new intercept due to linear regression limitation on time series X"
   ]
  },
  {
   "cell_type": "code",
   "execution_count": 30,
   "metadata": {
    "ExecuteTime": {
     "end_time": "2022-12-17T02:28:44.264628Z",
     "start_time": "2022-12-17T02:28:44.065520Z"
    }
   },
   "outputs": [
    {
     "name": "stderr",
     "output_type": "stream",
     "text": [
      "/opt/anaconda2/envs/py36/lib/python3.6/site-packages/matplotlib/cbook/__init__.py:1402: FutureWarning: Support for multi-dimensional indexing (e.g. `obj[:, None]`) is deprecated and will be removed in a future version.  Convert to a numpy array before indexing instead.\n",
      "  x[:, None]\n",
      "/opt/anaconda2/envs/py36/lib/python3.6/site-packages/matplotlib/axes/_base.py:276: FutureWarning: Support for multi-dimensional indexing (e.g. `obj[:, None]`) is deprecated and will be removed in a future version.  Convert to a numpy array before indexing instead.\n",
      "  x = x[:, np.newaxis]\n"
     ]
    },
    {
     "data": {
      "image/png": "[encoded data removed]",
      "text/plain": [
       "<Figure size 1224x504 with 1 Axes>"
      ]
     },
     "metadata": {
      "needs_background": "light"
     },
     "output_type": "display_data"
    }
   ],
   "source": [
    "plt.figure(figsize=(17, 7))\n",
    "plt.plot(series.index, series.values, '.', label='original data')\n",
    "plt.plot(series.index, nni, 'r', label='fitted line')\n",
    "plt.legend()\n",
    "plt.show()"
   ]
  },
  {
   "cell_type": "markdown",
   "metadata": {
    "ExecuteTime": {
     "end_time": "2022-12-16T15:04:21.054649Z",
     "start_time": "2022-12-16T15:04:21.052089Z"
    }
   },
   "source": [
    "# Final output"
   ]
  },
  {
   "cell_type": "markdown",
   "metadata": {},
   "source": [
    "## Original data"
   ]
  },
  {
   "cell_type": "code",
   "execution_count": 31,
   "metadata": {
    "ExecuteTime": {
     "end_time": "2022-12-17T02:28:44.270812Z",
     "start_time": "2022-12-17T02:28:44.266624Z"
    }
   },
   "outputs": [],
   "source": [
    "orig_value = pd.concat([pd.Series(decomposition.trend.values),  pd.Series(x_trend)], axis=1)"
   ]
  },
  {
   "cell_type": "code",
   "execution_count": 32,
   "metadata": {
    "ExecuteTime": {
     "end_time": "2022-12-17T02:28:44.275129Z",
     "start_time": "2022-12-17T02:28:44.272775Z"
    }
   },
   "outputs": [],
   "source": [
    "orig_value.index = decomposition.trend.index"
   ]
  },
  {
   "cell_type": "code",
   "execution_count": 33,
   "metadata": {
    "ExecuteTime": {
     "end_time": "2022-12-17T02:28:44.280300Z",
     "start_time": "2022-12-17T02:28:44.277193Z"
    }
   },
   "outputs": [],
   "source": [
    "orig_value.rename(columns = {0:'Original Data',1:'Trend'}, inplace = True)"
   ]
  },
  {
   "cell_type": "code",
   "execution_count": 34,
   "metadata": {
    "ExecuteTime": {
     "end_time": "2022-12-17T02:28:44.287690Z",
     "start_time": "2022-12-17T02:28:44.282222Z"
    }
   },
   "outputs": [],
   "source": [
    "orig_value['Seasonal'] = orig_value['Original Data'] + decomposition.seasonal.values"
   ]
  },
  {
   "cell_type": "code",
   "execution_count": 35,
   "metadata": {
    "ExecuteTime": {
     "end_time": "2022-12-17T02:28:44.301765Z",
     "start_time": "2022-12-17T02:28:44.289584Z"
    }
   },
   "outputs": [
    {
     "data": {
      "text/html": [
       "<div>\n",
       "<style scoped>\n",
       "    .dataframe tbody tr th:only-of-type {\n",
       "        vertical-align: middle;\n",
       "    }\n",
       "\n",
       "    .dataframe tbody tr th {\n",
       "        vertical-align: top;\n",
       "    }\n",
       "\n",
       "    .dataframe thead th {\n",
       "        text-align: right;\n",
       "    }\n",
       "</style>\n",
       "<table border=\"1\" class=\"dataframe\">\n",
       "  <thead>\n",
       "    <tr style=\"text-align: right;\">\n",
       "      <th></th>\n",
       "      <th>Original Data</th>\n",
       "      <th>Trend</th>\n",
       "      <th>Seasonal</th>\n",
       "    </tr>\n",
       "    <tr>\n",
       "      <th>d_date</th>\n",
       "      <th></th>\n",
       "      <th></th>\n",
       "      <th></th>\n",
       "    </tr>\n",
       "  </thead>\n",
       "  <tbody>\n",
       "    <tr>\n",
       "      <th>2021-01-01</th>\n",
       "      <td>41434.641668</td>\n",
       "      <td>36272.594268</td>\n",
       "      <td>46032.617258</td>\n",
       "    </tr>\n",
       "    <tr>\n",
       "      <th>2021-01-02</th>\n",
       "      <td>41373.444927</td>\n",
       "      <td>36282.182605</td>\n",
       "      <td>44435.084649</td>\n",
       "    </tr>\n",
       "    <tr>\n",
       "      <th>2021-01-03</th>\n",
       "      <td>41312.248186</td>\n",
       "      <td>36291.770942</td>\n",
       "      <td>43530.582517</td>\n",
       "    </tr>\n",
       "    <tr>\n",
       "      <th>2021-01-04</th>\n",
       "      <td>39914.552684</td>\n",
       "      <td>36301.359279</td>\n",
       "      <td>41201.773710</td>\n",
       "    </tr>\n",
       "    <tr>\n",
       "      <th>2021-01-05</th>\n",
       "      <td>42061.821087</td>\n",
       "      <td>36310.947615</td>\n",
       "      <td>40416.813329</td>\n",
       "    </tr>\n",
       "    <tr>\n",
       "      <th>...</th>\n",
       "      <td>...</td>\n",
       "      <td>...</td>\n",
       "      <td>...</td>\n",
       "    </tr>\n",
       "    <tr>\n",
       "      <th>2021-12-27</th>\n",
       "      <td>38353.925286</td>\n",
       "      <td>47069.061606</td>\n",
       "      <td>39641.146311</td>\n",
       "    </tr>\n",
       "    <tr>\n",
       "      <th>2021-12-28</th>\n",
       "      <td>38859.376429</td>\n",
       "      <td>47078.649943</td>\n",
       "      <td>37214.368670</td>\n",
       "    </tr>\n",
       "    <tr>\n",
       "      <th>2021-12-29</th>\n",
       "      <td>37216.552393</td>\n",
       "      <td>47088.238280</td>\n",
       "      <td>29595.211174</td>\n",
       "    </tr>\n",
       "    <tr>\n",
       "      <th>2021-12-30</th>\n",
       "      <td>37193.880908</td>\n",
       "      <td>47097.826617</td>\n",
       "      <td>35295.059217</td>\n",
       "    </tr>\n",
       "    <tr>\n",
       "      <th>2021-12-31</th>\n",
       "      <td>37171.209423</td>\n",
       "      <td>47107.414953</td>\n",
       "      <td>41769.185013</td>\n",
       "    </tr>\n",
       "  </tbody>\n",
       "</table>\n",
       "<p>365 rows × 3 columns</p>\n",
       "</div>"
      ],
      "text/plain": [
       "            Original Data         Trend      Seasonal\n",
       "d_date                                               \n",
       "2021-01-01   41434.641668  36272.594268  46032.617258\n",
       "2021-01-02   41373.444927  36282.182605  44435.084649\n",
       "2021-01-03   41312.248186  36291.770942  43530.582517\n",
       "2021-01-04   39914.552684  36301.359279  41201.773710\n",
       "2021-01-05   42061.821087  36310.947615  40416.813329\n",
       "...                   ...           ...           ...\n",
       "2021-12-27   38353.925286  47069.061606  39641.146311\n",
       "2021-12-28   38859.376429  47078.649943  37214.368670\n",
       "2021-12-29   37216.552393  47088.238280  29595.211174\n",
       "2021-12-30   37193.880908  47097.826617  35295.059217\n",
       "2021-12-31   37171.209423  47107.414953  41769.185013\n",
       "\n",
       "[365 rows x 3 columns]"
      ]
     },
     "execution_count": 35,
     "metadata": {},
     "output_type": "execute_result"
    }
   ],
   "source": [
    "orig_value"
   ]
  },
  {
   "cell_type": "markdown",
   "metadata": {},
   "source": [
    "## Forecasted data"
   ]
  },
  {
   "cell_type": "code",
   "execution_count": 36,
   "metadata": {
    "ExecuteTime": {
     "end_time": "2022-12-17T02:28:44.306359Z",
     "start_time": "2022-12-17T02:28:44.303558Z"
    }
   },
   "outputs": [],
   "source": [
    "tre = pd.Series(nni)\n",
    "tre.index = series.index"
   ]
  },
  {
   "cell_type": "code",
   "execution_count": 37,
   "metadata": {
    "ExecuteTime": {
     "end_time": "2022-12-17T02:28:44.311874Z",
     "start_time": "2022-12-17T02:28:44.308428Z"
    }
   },
   "outputs": [],
   "source": [
    "forecasted = pd.concat([series, tre], axis=1)"
   ]
  },
  {
   "cell_type": "code",
   "execution_count": 38,
   "metadata": {
    "ExecuteTime": {
     "end_time": "2022-12-17T02:28:44.323149Z",
     "start_time": "2022-12-17T02:28:44.313742Z"
    }
   },
   "outputs": [
    {
     "data": {
      "text/html": [
       "<div>\n",
       "<style scoped>\n",
       "    .dataframe tbody tr th:only-of-type {\n",
       "        vertical-align: middle;\n",
       "    }\n",
       "\n",
       "    .dataframe tbody tr th {\n",
       "        vertical-align: top;\n",
       "    }\n",
       "\n",
       "    .dataframe thead th {\n",
       "        text-align: right;\n",
       "    }\n",
       "</style>\n",
       "<table border=\"1\" class=\"dataframe\">\n",
       "  <thead>\n",
       "    <tr style=\"text-align: right;\">\n",
       "      <th></th>\n",
       "      <th>0</th>\n",
       "      <th>1</th>\n",
       "    </tr>\n",
       "  </thead>\n",
       "  <tbody>\n",
       "    <tr>\n",
       "      <th>2022-01-01</th>\n",
       "      <td>53811.393916</td>\n",
       "      <td>47107.366571</td>\n",
       "    </tr>\n",
       "    <tr>\n",
       "      <th>2022-01-02</th>\n",
       "      <td>53731.917376</td>\n",
       "      <td>47116.954908</td>\n",
       "    </tr>\n",
       "    <tr>\n",
       "      <th>2022-01-03</th>\n",
       "      <td>53652.440837</td>\n",
       "      <td>47126.543245</td>\n",
       "    </tr>\n",
       "    <tr>\n",
       "      <th>2022-01-04</th>\n",
       "      <td>51837.246106</td>\n",
       "      <td>47136.131582</td>\n",
       "    </tr>\n",
       "    <tr>\n",
       "      <th>2022-01-05</th>\n",
       "      <td>54625.915230</td>\n",
       "      <td>47145.719919</td>\n",
       "    </tr>\n",
       "    <tr>\n",
       "      <th>...</th>\n",
       "      <td>...</td>\n",
       "      <td>...</td>\n",
       "    </tr>\n",
       "    <tr>\n",
       "      <th>2022-12-27</th>\n",
       "      <td>49810.450838</td>\n",
       "      <td>57903.833909</td>\n",
       "    </tr>\n",
       "    <tr>\n",
       "      <th>2022-12-28</th>\n",
       "      <td>50466.882979</td>\n",
       "      <td>57913.422246</td>\n",
       "    </tr>\n",
       "    <tr>\n",
       "      <th>2022-12-29</th>\n",
       "      <td>48333.338491</td>\n",
       "      <td>57923.010583</td>\n",
       "    </tr>\n",
       "    <tr>\n",
       "      <th>2022-12-30</th>\n",
       "      <td>48303.894911</td>\n",
       "      <td>57932.598920</td>\n",
       "    </tr>\n",
       "    <tr>\n",
       "      <th>2022-12-31</th>\n",
       "      <td>48274.451331</td>\n",
       "      <td>57942.187257</td>\n",
       "    </tr>\n",
       "  </tbody>\n",
       "</table>\n",
       "<p>365 rows × 2 columns</p>\n",
       "</div>"
      ],
      "text/plain": [
       "                       0             1\n",
       "2022-01-01  53811.393916  47107.366571\n",
       "2022-01-02  53731.917376  47116.954908\n",
       "2022-01-03  53652.440837  47126.543245\n",
       "2022-01-04  51837.246106  47136.131582\n",
       "2022-01-05  54625.915230  47145.719919\n",
       "...                  ...           ...\n",
       "2022-12-27  49810.450838  57903.833909\n",
       "2022-12-28  50466.882979  57913.422246\n",
       "2022-12-29  48333.338491  57923.010583\n",
       "2022-12-30  48303.894911  57932.598920\n",
       "2022-12-31  48274.451331  57942.187257\n",
       "\n",
       "[365 rows x 2 columns]"
      ]
     },
     "execution_count": 38,
     "metadata": {},
     "output_type": "execute_result"
    }
   ],
   "source": [
    "forecasted"
   ]
  },
  {
   "cell_type": "code",
   "execution_count": 39,
   "metadata": {
    "ExecuteTime": {
     "end_time": "2022-12-17T02:28:44.328162Z",
     "start_time": "2022-12-17T02:28:44.324952Z"
    }
   },
   "outputs": [],
   "source": [
    "forecasted.rename(columns = {0:'Original Data',1:'Trend'}, inplace = True)"
   ]
  },
  {
   "cell_type": "code",
   "execution_count": 40,
   "metadata": {
    "ExecuteTime": {
     "end_time": "2022-12-17T02:28:44.334552Z",
     "start_time": "2022-12-17T02:28:44.330218Z"
    }
   },
   "outputs": [],
   "source": [
    "forecasted['Seasonal'] = forecasted['Original Data'] + decomposition.seasonal.values"
   ]
  },
  {
   "cell_type": "code",
   "execution_count": 41,
   "metadata": {
    "ExecuteTime": {
     "end_time": "2022-12-17T02:28:44.348319Z",
     "start_time": "2022-12-17T02:28:44.336463Z"
    }
   },
   "outputs": [
    {
     "data": {
      "text/html": [
       "<div>\n",
       "<style scoped>\n",
       "    .dataframe tbody tr th:only-of-type {\n",
       "        vertical-align: middle;\n",
       "    }\n",
       "\n",
       "    .dataframe tbody tr th {\n",
       "        vertical-align: top;\n",
       "    }\n",
       "\n",
       "    .dataframe thead th {\n",
       "        text-align: right;\n",
       "    }\n",
       "</style>\n",
       "<table border=\"1\" class=\"dataframe\">\n",
       "  <thead>\n",
       "    <tr style=\"text-align: right;\">\n",
       "      <th></th>\n",
       "      <th>Original Data</th>\n",
       "      <th>Trend</th>\n",
       "      <th>Seasonal</th>\n",
       "    </tr>\n",
       "  </thead>\n",
       "  <tbody>\n",
       "    <tr>\n",
       "      <th>2022-01-01</th>\n",
       "      <td>53811.393916</td>\n",
       "      <td>47107.366571</td>\n",
       "      <td>58409.369506</td>\n",
       "    </tr>\n",
       "    <tr>\n",
       "      <th>2022-01-02</th>\n",
       "      <td>53731.917376</td>\n",
       "      <td>47116.954908</td>\n",
       "      <td>56793.557098</td>\n",
       "    </tr>\n",
       "    <tr>\n",
       "      <th>2022-01-03</th>\n",
       "      <td>53652.440837</td>\n",
       "      <td>47126.543245</td>\n",
       "      <td>55870.775168</td>\n",
       "    </tr>\n",
       "    <tr>\n",
       "      <th>2022-01-04</th>\n",
       "      <td>51837.246106</td>\n",
       "      <td>47136.131582</td>\n",
       "      <td>53124.467132</td>\n",
       "    </tr>\n",
       "    <tr>\n",
       "      <th>2022-01-05</th>\n",
       "      <td>54625.915230</td>\n",
       "      <td>47145.719919</td>\n",
       "      <td>52980.907472</td>\n",
       "    </tr>\n",
       "    <tr>\n",
       "      <th>...</th>\n",
       "      <td>...</td>\n",
       "      <td>...</td>\n",
       "      <td>...</td>\n",
       "    </tr>\n",
       "    <tr>\n",
       "      <th>2022-12-27</th>\n",
       "      <td>49810.450838</td>\n",
       "      <td>57903.833909</td>\n",
       "      <td>51097.671863</td>\n",
       "    </tr>\n",
       "    <tr>\n",
       "      <th>2022-12-28</th>\n",
       "      <td>50466.882979</td>\n",
       "      <td>57913.422246</td>\n",
       "      <td>48821.875220</td>\n",
       "    </tr>\n",
       "    <tr>\n",
       "      <th>2022-12-29</th>\n",
       "      <td>48333.338491</td>\n",
       "      <td>57923.010583</td>\n",
       "      <td>40711.997272</td>\n",
       "    </tr>\n",
       "    <tr>\n",
       "      <th>2022-12-30</th>\n",
       "      <td>48303.894911</td>\n",
       "      <td>57932.598920</td>\n",
       "      <td>46405.073220</td>\n",
       "    </tr>\n",
       "    <tr>\n",
       "      <th>2022-12-31</th>\n",
       "      <td>48274.451331</td>\n",
       "      <td>57942.187257</td>\n",
       "      <td>52872.426921</td>\n",
       "    </tr>\n",
       "  </tbody>\n",
       "</table>\n",
       "<p>365 rows × 3 columns</p>\n",
       "</div>"
      ],
      "text/plain": [
       "            Original Data         Trend      Seasonal\n",
       "2022-01-01   53811.393916  47107.366571  58409.369506\n",
       "2022-01-02   53731.917376  47116.954908  56793.557098\n",
       "2022-01-03   53652.440837  47126.543245  55870.775168\n",
       "2022-01-04   51837.246106  47136.131582  53124.467132\n",
       "2022-01-05   54625.915230  47145.719919  52980.907472\n",
       "...                   ...           ...           ...\n",
       "2022-12-27   49810.450838  57903.833909  51097.671863\n",
       "2022-12-28   50466.882979  57913.422246  48821.875220\n",
       "2022-12-29   48333.338491  57923.010583  40711.997272\n",
       "2022-12-30   48303.894911  57932.598920  46405.073220\n",
       "2022-12-31   48274.451331  57942.187257  52872.426921\n",
       "\n",
       "[365 rows x 3 columns]"
      ]
     },
     "execution_count": 41,
     "metadata": {},
     "output_type": "execute_result"
    }
   ],
   "source": [
    "forecasted"
   ]
  },
  {
   "cell_type": "markdown",
   "metadata": {
    "ExecuteTime": {
     "end_time": "2022-12-16T15:04:21.154768Z",
     "start_time": "2022-12-16T15:04:21.152411Z"
    }
   },
   "source": [
    "## Combined"
   ]
  },
  {
   "cell_type": "code",
   "execution_count": 42,
   "metadata": {
    "ExecuteTime": {
     "end_time": "2022-12-17T02:28:44.354011Z",
     "start_time": "2022-12-17T02:28:44.350145Z"
    }
   },
   "outputs": [],
   "source": [
    "final = pd.concat([orig_value, forecasted], axis=0)"
   ]
  },
  {
   "cell_type": "code",
   "execution_count": 43,
   "metadata": {
    "ExecuteTime": {
     "end_time": "2022-12-17T02:28:44.366981Z",
     "start_time": "2022-12-17T02:28:44.356096Z"
    }
   },
   "outputs": [
    {
     "data": {
      "text/html": [
       "<div>\n",
       "<style scoped>\n",
       "    .dataframe tbody tr th:only-of-type {\n",
       "        vertical-align: middle;\n",
       "    }\n",
       "\n",
       "    .dataframe tbody tr th {\n",
       "        vertical-align: top;\n",
       "    }\n",
       "\n",
       "    .dataframe thead th {\n",
       "        text-align: right;\n",
       "    }\n",
       "</style>\n",
       "<table border=\"1\" class=\"dataframe\">\n",
       "  <thead>\n",
       "    <tr style=\"text-align: right;\">\n",
       "      <th></th>\n",
       "      <th>Original Data</th>\n",
       "      <th>Trend</th>\n",
       "      <th>Seasonal</th>\n",
       "    </tr>\n",
       "  </thead>\n",
       "  <tbody>\n",
       "    <tr>\n",
       "      <th>2021-01-01</th>\n",
       "      <td>41434.641668</td>\n",
       "      <td>36272.594268</td>\n",
       "      <td>46032.617258</td>\n",
       "    </tr>\n",
       "    <tr>\n",
       "      <th>2021-01-02</th>\n",
       "      <td>41373.444927</td>\n",
       "      <td>36282.182605</td>\n",
       "      <td>44435.084649</td>\n",
       "    </tr>\n",
       "    <tr>\n",
       "      <th>2021-01-03</th>\n",
       "      <td>41312.248186</td>\n",
       "      <td>36291.770942</td>\n",
       "      <td>43530.582517</td>\n",
       "    </tr>\n",
       "    <tr>\n",
       "      <th>2021-01-04</th>\n",
       "      <td>39914.552684</td>\n",
       "      <td>36301.359279</td>\n",
       "      <td>41201.773710</td>\n",
       "    </tr>\n",
       "    <tr>\n",
       "      <th>2021-01-05</th>\n",
       "      <td>42061.821087</td>\n",
       "      <td>36310.947615</td>\n",
       "      <td>40416.813329</td>\n",
       "    </tr>\n",
       "    <tr>\n",
       "      <th>...</th>\n",
       "      <td>...</td>\n",
       "      <td>...</td>\n",
       "      <td>...</td>\n",
       "    </tr>\n",
       "    <tr>\n",
       "      <th>2022-12-27</th>\n",
       "      <td>49810.450838</td>\n",
       "      <td>57903.833909</td>\n",
       "      <td>51097.671863</td>\n",
       "    </tr>\n",
       "    <tr>\n",
       "      <th>2022-12-28</th>\n",
       "      <td>50466.882979</td>\n",
       "      <td>57913.422246</td>\n",
       "      <td>48821.875220</td>\n",
       "    </tr>\n",
       "    <tr>\n",
       "      <th>2022-12-29</th>\n",
       "      <td>48333.338491</td>\n",
       "      <td>57923.010583</td>\n",
       "      <td>40711.997272</td>\n",
       "    </tr>\n",
       "    <tr>\n",
       "      <th>2022-12-30</th>\n",
       "      <td>48303.894911</td>\n",
       "      <td>57932.598920</td>\n",
       "      <td>46405.073220</td>\n",
       "    </tr>\n",
       "    <tr>\n",
       "      <th>2022-12-31</th>\n",
       "      <td>48274.451331</td>\n",
       "      <td>57942.187257</td>\n",
       "      <td>52872.426921</td>\n",
       "    </tr>\n",
       "  </tbody>\n",
       "</table>\n",
       "<p>730 rows × 3 columns</p>\n",
       "</div>"
      ],
      "text/plain": [
       "            Original Data         Trend      Seasonal\n",
       "2021-01-01   41434.641668  36272.594268  46032.617258\n",
       "2021-01-02   41373.444927  36282.182605  44435.084649\n",
       "2021-01-03   41312.248186  36291.770942  43530.582517\n",
       "2021-01-04   39914.552684  36301.359279  41201.773710\n",
       "2021-01-05   42061.821087  36310.947615  40416.813329\n",
       "...                   ...           ...           ...\n",
       "2022-12-27   49810.450838  57903.833909  51097.671863\n",
       "2022-12-28   50466.882979  57913.422246  48821.875220\n",
       "2022-12-29   48333.338491  57923.010583  40711.997272\n",
       "2022-12-30   48303.894911  57932.598920  46405.073220\n",
       "2022-12-31   48274.451331  57942.187257  52872.426921\n",
       "\n",
       "[730 rows x 3 columns]"
      ]
     },
     "execution_count": 43,
     "metadata": {},
     "output_type": "execute_result"
    }
   ],
   "source": [
    "final"
   ]
  },
  {
   "cell_type": "code",
   "execution_count": 44,
   "metadata": {
    "ExecuteTime": {
     "end_time": "2022-12-17T02:28:44.593888Z",
     "start_time": "2022-12-17T02:28:44.368924Z"
    }
   },
   "outputs": [
    {
     "name": "stderr",
     "output_type": "stream",
     "text": [
      "/opt/anaconda2/envs/py36/lib/python3.6/site-packages/matplotlib/cbook/__init__.py:1402: FutureWarning: Support for multi-dimensional indexing (e.g. `obj[:, None]`) is deprecated and will be removed in a future version.  Convert to a numpy array before indexing instead.\n",
      "  x[:, None]\n",
      "/opt/anaconda2/envs/py36/lib/python3.6/site-packages/matplotlib/axes/_base.py:276: FutureWarning: Support for multi-dimensional indexing (e.g. `obj[:, None]`) is deprecated and will be removed in a future version.  Convert to a numpy array before indexing instead.\n",
      "  x = x[:, np.newaxis]\n",
      "/opt/anaconda2/envs/py36/lib/python3.6/site-packages/matplotlib/axes/_base.py:278: FutureWarning: Support for multi-dimensional indexing (e.g. `obj[:, None]`) is deprecated and will be removed in a future version.  Convert to a numpy array before indexing instead.\n",
      "  y = y[:, np.newaxis]\n"
     ]
    },
    {
     "data": {
      "image/png": "[encoded data removed]",
      "text/plain": [
       "<Figure size 1224x504 with 1 Axes>"
      ]
     },
     "metadata": {
      "needs_background": "light"
     },
     "output_type": "display_data"
    }
   ],
   "source": [
    "plt.figure(figsize=(17, 7))\n",
    "plt.plot(final.index, final['Original Data'], '.', label='original data')\n",
    "plt.plot(final.index, final['Trend'], 'r', label='fitted line')\n",
    "plt.title('WO day of week effect')\n",
    "plt.legend()\n",
    "plt.show()"
   ]
  },
  {
   "cell_type": "code",
   "execution_count": 45,
   "metadata": {
    "ExecuteTime": {
     "end_time": "2022-12-17T02:28:44.833983Z",
     "start_time": "2022-12-17T02:28:44.595872Z"
    }
   },
   "outputs": [
    {
     "name": "stderr",
     "output_type": "stream",
     "text": [
      "/opt/anaconda2/envs/py36/lib/python3.6/site-packages/matplotlib/cbook/__init__.py:1402: FutureWarning: Support for multi-dimensional indexing (e.g. `obj[:, None]`) is deprecated and will be removed in a future version.  Convert to a numpy array before indexing instead.\n",
      "  x[:, None]\n",
      "/opt/anaconda2/envs/py36/lib/python3.6/site-packages/matplotlib/axes/_base.py:276: FutureWarning: Support for multi-dimensional indexing (e.g. `obj[:, None]`) is deprecated and will be removed in a future version.  Convert to a numpy array before indexing instead.\n",
      "  x = x[:, np.newaxis]\n",
      "/opt/anaconda2/envs/py36/lib/python3.6/site-packages/matplotlib/axes/_base.py:278: FutureWarning: Support for multi-dimensional indexing (e.g. `obj[:, None]`) is deprecated and will be removed in a future version.  Convert to a numpy array before indexing instead.\n",
      "  y = y[:, np.newaxis]\n"
     ]
    },
    {
     "data": {
      "image/png": "[encoded data removed]",
      "text/plain": [
       "<Figure size 1224x504 with 1 Axes>"
      ]
     },
     "metadata": {
      "needs_background": "light"
     },
     "output_type": "display_data"
    }
   ],
   "source": [
    "plt.figure(figsize=(17, 7))\n",
    "plt.plot(final.index, final['Seasonal'], 'b', label='original data')\n",
    "plt.plot(final.index, final['Trend'], 'r', label='fitted line')\n",
    "plt.title('With day of week effect')\n",
    "plt.legend()\n",
    "plt.show()"
   ]
  },
  {
   "cell_type": "code",
   "execution_count": 46,
   "metadata": {
    "ExecuteTime": {
     "end_time": "2022-12-17T02:28:44.923804Z",
     "start_time": "2022-12-17T02:28:44.836094Z"
    }
   },
   "outputs": [],
   "source": [
    "final.to_excel (r'ForecastedData.xlsx', index=True)"
   ]
  }
 ],
 "metadata": {
  "kernelspec": {
   "display_name": "Python 3",
   "language": "python",
   "name": "python3"
  },
  "language_info": {
   "codemirror_mode": {
    "name": "ipython",
    "version": 3
   },
   "file_extension": ".py",
   "mimetype": "text/x-python",
   "name": "python",
   "nbconvert_exporter": "python",
   "pygments_lexer": "ipython3",
   "version": "3.6.7"
  },
  "toc": {
   "base_numbering": 1,
   "nav_menu": {},
   "number_sections": true,
   "sideBar": true,
   "skip_h1_title": false,
   "title_cell": "Table of Contents",
   "title_sidebar": "Contents",
   "toc_cell": false,
   "toc_position": {},
   "toc_section_display": true,
   "toc_window_display": false
  }
 },
 "nbformat": 4,
 "nbformat_minor": 2
}
